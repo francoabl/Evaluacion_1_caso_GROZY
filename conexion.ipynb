{
 "cells": [
  {
   "cell_type": "markdown",
   "id": "3cb3f7e9",
   "metadata": {},
   "source": [
    "Conexion Modelo"
   ]
  },
  {
   "cell_type": "code",
   "execution_count": 1,
   "id": "68c124db",
   "metadata": {},
   "outputs": [
    {
     "name": "stdout",
     "output_type": "stream",
     "text": [
      "OpenAI library version: 1.109.1\n",
      "Python version: 3.13.3 (tags/v3.13.3:6280bb5, Apr  8 2025, 14:47:33) [MSC v.1943 64 bit (AMD64)]\n",
      "Base URL configurada: https://models.inference.ai.azure.com\n",
      "API Key configurada: ✓\n",
      "API Key preview: ghp_5Ax0SB...7Bxm\n"
     ]
    }
   ],
   "source": [
    "# Importar las bibliotecas necesarias\n",
    "from openai import OpenAI\n",
    "import os\n",
    "\n",
    "# Verificar que tenemos las bibliotecas correctas\n",
    "print(\"OpenAI library version:\", __import__('openai').__version__)\n",
    "print(\"Python version:\", __import__('sys').version)\n",
    "\n",
    "# Configuración del cliente OpenAI para GitHub Models\n",
    "try:\n",
    "    # Configurar el cliente con variables de entorno\n",
    "    client = OpenAI(\n",
    "        base_url=os.environ.get(\"GITHUB_BASE_URL\"),\n",
    "        api_key=os.environ.get(\"GITHUB_TOKEN\")\n",
    "    )\n",
    "    \n",
    "    # Verificar configuración (sin mostrar la API key completa por seguridad)\n",
    "    print(\"Base URL configurada:\", client.base_url)\n",
    "    print(\"API Key configurada:\", \"✓\" if client.api_key else \"✗\")\n",
    "    \n",
    "    if client.api_key:\n",
    "        print(\"API Key preview:\", client.api_key[:10] + \"...\" + client.api_key[-4:])\n",
    "    else:\n",
    "        print(\"⚠️  API Key no encontrada. Asegúrate de configurar GITHUB_TOKEN\")\n",
    "        \n",
    "except Exception as e:\n",
    "    print(f\"Error en configuración: {e}\")\n",
    "    print(\"Verifica que las variables de entorno estén configuradas correctamente\")"
   ]
  },
  {
   "cell_type": "markdown",
   "id": "25adbc08",
   "metadata": {},
   "source": [
    "Conexion LangChain"
   ]
  },
  {
   "cell_type": "code",
   "execution_count": 2,
   "id": "dcbc2b20",
   "metadata": {},
   "outputs": [
    {
     "name": "stdout",
     "output_type": "stream",
     "text": [
      "Verificando instalación de LangChain...\n",
      "✓ LangChain version: 0.3.27\n",
      "Bibliotecas importadas correctamente\n"
     ]
    }
   ],
   "source": [
    "# Importar las bibliotecas de LangChain\n",
    "from langchain_openai import ChatOpenAI\n",
    "from langchain.schema import HumanMessage, AIMessage, SystemMessage\n",
    "import os\n",
    "\n",
    "# Verificar versiones\n",
    "print(\"Verificando instalación de LangChain...\")\n",
    "try:\n",
    "    import langchain\n",
    "    print(f\"✓ LangChain version: {langchain.__version__}\")\n",
    "except ImportError:\n",
    "    print(\"✗ LangChain no está instalado\")\n",
    "\n",
    "print(\"Bibliotecas importadas correctamente\")"
   ]
  }
 ],
 "metadata": {
  "kernelspec": {
   "display_name": "venv",
   "language": "python",
   "name": "python3"
  },
  "language_info": {
   "codemirror_mode": {
    "name": "ipython",
    "version": 3
   },
   "file_extension": ".py",
   "mimetype": "text/x-python",
   "name": "python",
   "nbconvert_exporter": "python",
   "pygments_lexer": "ipython3",
   "version": "3.13.3"
  }
 },
 "nbformat": 4,
 "nbformat_minor": 5
}
