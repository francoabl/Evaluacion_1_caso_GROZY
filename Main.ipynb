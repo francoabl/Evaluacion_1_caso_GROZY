{
 "cells": [
  {
   "cell_type": "markdown",
   "id": "f8fa91cd",
   "metadata": {},
   "source": [
    "Script de carga de datos"
   ]
  },
  {
   "cell_type": "code",
   "execution_count": 7,
   "id": "8beaf4a2",
   "metadata": {},
   "outputs": [
    {
     "name": "stdout",
     "output_type": "stream",
     "text": [
      "✅ GitHub token configurado correctamente\n"
     ]
    }
   ],
   "source": [
    "# Importaciones y configuración inicial\n",
    "import json\n",
    "import os\n",
    "from dotenv import load_dotenv\n",
    "from langchain_openai import OpenAIEmbeddings, ChatOpenAI\n",
    "from langchain.vectorstores import FAISS\n",
    "from langchain.schema import Document\n",
    "from langchain.chains import RetrievalQA\n",
    "\n",
    "# Cargar variables de entorno desde el archivo .env\n",
    "load_dotenv()\n",
    "\n",
    "# Configurar para usar GitHub Models\n",
    "github_token = os.getenv('GITHUB_TOKEN')\n",
    "openai_base_url = os.getenv('OPENAI_BASE_URL')\n",
    "\n",
    "if not github_token:\n",
    "    print(\"❌ Error: GITHUB_TOKEN no está configurado\")\n",
    "    print(\"Asegúrate de tener tu GitHub token en el archivo .env\")\n",
    "else:\n",
    "    print(\"✅ GitHub token configurado correctamente\")"
   ]
  },
  {
   "cell_type": "code",
   "execution_count": 9,
   "id": "cdca64a6",
   "metadata": {},
   "outputs": [
    {
     "name": "stdout",
     "output_type": "stream",
     "text": [
      "✅ Se cargaron 495 productos de la muestra diversa\n",
      "📊 Categorías incluidas:\n",
      "  - bebidas-y-licores: 55 productos\n",
      "  - carnes: 55 productos\n",
      "  - congelados: 55 productos\n",
      "  - desayuno-y-dulces: 55 productos\n",
      "  - despensa: 55 productos\n",
      "  - frutas-y-verduras: 55 productos\n",
      "  - lacteos-huevos-y-refrigerados: 55 productos\n",
      "  - panaderia-y-pasteleria: 55 productos\n",
      "  - quesos-y-fiambres: 55 productos\n",
      "✅ Se crearon 495 documentos\n"
     ]
    }
   ],
   "source": [
    "# Carga de datos y conversión a documentos\n",
    "file_path = os.path.join(\"data\", \"productos_unimarc_muestra.json\")\n",
    "\n",
    "if not os.path.exists(file_path):\n",
    "    print(f\"❌ Error: No se encontró el archivo {file_path}\")\n",
    "    print(\"Archivos disponibles en data/:\", os.listdir(\"data\"))\n",
    "    print(\"💡 Ejecuta primero el script crear_muestra_productos.py para generar la muestra\")\n",
    "else:\n",
    "    with open(file_path, \"r\", encoding=\"utf-8\") as f:\n",
    "        productos = json.load(f)\n",
    "    \n",
    "    print(f\"✅ Se cargaron {len(productos)} productos de la muestra diversa\")\n",
    "    \n",
    "    # Mostrar distribución por categoría\n",
    "    categorias = {}\n",
    "    for p in productos:\n",
    "        cat = p['categoria']\n",
    "        categorias[cat] = categorias.get(cat, 0) + 1\n",
    "    \n",
    "    print(\"📊 Categorías incluidas:\")\n",
    "    for categoria, cantidad in sorted(categorias.items()):\n",
    "        print(f\"  - {categoria}: {cantidad} productos\")\n",
    "\n",
    "    # Convertir productos a documentos de LangChain\n",
    "    docs = []\n",
    "    for p in productos:\n",
    "        contenido = (\n",
    "            f\"Nombre: {p['nombre']} | \"\n",
    "            f\"Precio: ${p['precio']} | \"\n",
    "            f\"Categoría: {p['categoria']} | \"\n",
    "            f\"Subcategoría: {p.get('subcategoria', 'N/A')} | \"\n",
    "            f\"Supermercado: {p['supermercado']}\"\n",
    "        )\n",
    "        docs.append(Document(\n",
    "            page_content=contenido, \n",
    "            metadata={\n",
    "                \"supermercado\": p[\"supermercado\"],\n",
    "                \"precio\": p[\"precio\"],\n",
    "                \"categoria\": p[\"categoria\"],\n",
    "                \"subcategoria\": p.get(\"subcategoria\", \"N/A\"),\n",
    "                \"enlace\": p.get(\"enlace\", \"\"),\n",
    "                \"imagen_url\": p.get(\"imagen_url\", \"\")\n",
    "            }\n",
    "        ))\n",
    "\n",
    "    print(f\"✅ Se crearon {len(docs)} documentos\")"
   ]
  },
  {
   "cell_type": "code",
   "execution_count": 10,
   "id": "8afa61df",
   "metadata": {},
   "outputs": [
    {
     "name": "stdout",
     "output_type": "stream",
     "text": [
      "✅ Creando embeddings...\n",
      "✅ Vector store creado exitosamente\n",
      "✅ LLM configurado correctamente\n",
      "✅ Sistema RAG configurado exitosamente\n",
      "✅ Vector store creado exitosamente\n",
      "✅ LLM configurado correctamente\n",
      "✅ Sistema RAG configurado exitosamente\n"
     ]
    }
   ],
   "source": [
    "# Configuración del sistema RAG (embeddings, vectorstore y LLM)\n",
    "try:\n",
    "    # Configurar embeddings para GitHub Models\n",
    "    embeddings = OpenAIEmbeddings(\n",
    "        api_key=github_token,\n",
    "        base_url=openai_base_url,\n",
    "        model=\"text-embedding-3-small\"\n",
    "    )\n",
    "    \n",
    "    print(\"✅ Creando embeddings...\")\n",
    "    vectorstore = FAISS.from_documents(docs, embeddings)\n",
    "    print(\"✅ Vector store creado exitosamente\")\n",
    "\n",
    "    # Crear retriever y LLM usando GitHub Models\n",
    "    retriever = vectorstore.as_retriever(search_kwargs={\"k\": 5})\n",
    "    \n",
    "    llm = ChatOpenAI(\n",
    "        api_key=github_token,\n",
    "        base_url=openai_base_url,\n",
    "        model=\"gpt-4o-mini\",\n",
    "        temperature=0\n",
    "    )\n",
    "    print(\"✅ LLM configurado correctamente\")\n",
    "\n",
    "    # Construir pipeline RAG\n",
    "    qa = RetrievalQA.from_chain_type(\n",
    "        llm=llm,\n",
    "        retriever=retriever,\n",
    "        chain_type=\"stuff\"\n",
    "    )\n",
    "    print(\"✅ Sistema RAG configurado exitosamente\")\n",
    "    \n",
    "except Exception as e:\n",
    "    print(f\"❌ Error al configurar GitHub Models: {e}\")\n",
    "    print(\"Tipo de error:\", type(e).__name__)\n",
    "    if \"413\" in str(e) or \"tokens_limit_reached\" in str(e):\n",
    "        print(\"💡 Sugerencia: El archivo de muestra sigue siendo muy grande, considera reducir más productos\")"
   ]
  },
  {
   "cell_type": "code",
   "execution_count": 11,
   "id": "1e715c9b",
   "metadata": {},
   "outputs": [
    {
     "name": "stdout",
     "output_type": "stream",
     "text": [
      "🔍 Consulta: Arma un carro de compras saludable para una familia de 3 personas con 20 productos de Unimarc. Incluye frutas, verduras, proteínas magras, lácteos bajos en grasa, cereales integrales y snacks saludables. Prioriza productos nutritivos y de buen precio.\n",
      "🤖 Procesando respuesta...\n",
      "🤖 Respuesta: Aquí tienes una sugerencia para un carro de compras saludable para una familia de 3 personas con 20 productos de Unimarc, priorizando productos nutritivos y de buen precio:\n",
      "\n",
      "1. Ensalada genial apio zanahoria bolsa 300 g - $2490\n",
      "2. Ensalada zanahoria proverde 180 g - $1290\n",
      "3. Arvejas verdes nuestra cocina partidas bolsa 500 g - $1250\n",
      "4. Pack barra cereal nature valley avena miel caja 6 un de 42 g - $5050\n",
      "5. Pack barra cereal nature valley almendra 6 un de 42 g - $5050\n",
      "6. Yogur natural bajo en grasa (puedes elegir la cantidad que necesites)\n",
      "7. Pechuga de pollo (puedes elegir la cantidad que necesites)\n",
      "8. Pescado (puedes elegir la cantidad que necesites)\n",
      "9. Lentejas (puedes elegir la cantidad que necesites)\n",
      "10. Quinoa (puedes elegir la cantidad que necesites)\n",
      "11. Manzanas (puedes elegir la cantidad que necesites)\n",
      "12. Plátanos (puedes elegir la cantidad que necesites)\n",
      "13. Espinacas (puedes elegir la cantidad que necesites)\n",
      "14. Brócoli (puedes elegir la cantidad que necesites)\n",
      "15. Zanahorias (puedes elegir la cantidad que necesites)\n",
      "16. Tomates (puedes elegir la cantidad que necesites)\n",
      "17. Avena (puedes elegir la cantidad que necesites)\n",
      "18. Nueces o almendras (puedes elegir la cantidad que necesites)\n",
      "19. Leche baja en grasa (puedes elegir la cantidad que necesites)\n",
      "20. Pan integral (puedes elegir la cantidad que necesites)\n",
      "\n",
      "Recuerda ajustar las cantidades según las necesidades y preferencias de tu familia.\n",
      "🤖 Respuesta: Aquí tienes una sugerencia para un carro de compras saludable para una familia de 3 personas con 20 productos de Unimarc, priorizando productos nutritivos y de buen precio:\n",
      "\n",
      "1. Ensalada genial apio zanahoria bolsa 300 g - $2490\n",
      "2. Ensalada zanahoria proverde 180 g - $1290\n",
      "3. Arvejas verdes nuestra cocina partidas bolsa 500 g - $1250\n",
      "4. Pack barra cereal nature valley avena miel caja 6 un de 42 g - $5050\n",
      "5. Pack barra cereal nature valley almendra 6 un de 42 g - $5050\n",
      "6. Yogur natural bajo en grasa (puedes elegir la cantidad que necesites)\n",
      "7. Pechuga de pollo (puedes elegir la cantidad que necesites)\n",
      "8. Pescado (puedes elegir la cantidad que necesites)\n",
      "9. Lentejas (puedes elegir la cantidad que necesites)\n",
      "10. Quinoa (puedes elegir la cantidad que necesites)\n",
      "11. Manzanas (puedes elegir la cantidad que necesites)\n",
      "12. Plátanos (puedes elegir la cantidad que necesites)\n",
      "13. Espinacas (puedes elegir la cantidad que necesites)\n",
      "14. Brócoli (puedes elegir la cantidad que necesites)\n",
      "15. Zanahorias (puedes elegir la cantidad que necesites)\n",
      "16. Tomates (puedes elegir la cantidad que necesites)\n",
      "17. Avena (puedes elegir la cantidad que necesites)\n",
      "18. Nueces o almendras (puedes elegir la cantidad que necesites)\n",
      "19. Leche baja en grasa (puedes elegir la cantidad que necesites)\n",
      "20. Pan integral (puedes elegir la cantidad que necesites)\n",
      "\n",
      "Recuerda ajustar las cantidades según las necesidades y preferencias de tu familia.\n"
     ]
    }
   ],
   "source": [
    "# Consulta al sistema RAG\n",
    "consulta = \"Arma un carro de compras saludable para una familia de 3 personas con 20 productos de Unimarc. Incluye frutas, verduras, proteínas magras, lácteos bajos en grasa, cereales integrales y snacks saludables. Prioriza productos nutritivos y de buen precio.\"\n",
    "\n",
    "print(\"🔍 Consulta:\", consulta)\n",
    "print(\"🤖 Procesando respuesta...\")\n",
    "\n",
    "respuesta = qa.run(consulta)\n",
    "print(\"🤖 Respuesta:\", respuesta)"
   ]
  }
 ],
 "metadata": {
  "kernelspec": {
   "display_name": "venv",
   "language": "python",
   "name": "python3"
  },
  "language_info": {
   "codemirror_mode": {
    "name": "ipython",
    "version": 3
   },
   "file_extension": ".py",
   "mimetype": "text/x-python",
   "name": "python",
   "nbconvert_exporter": "python",
   "pygments_lexer": "ipython3",
   "version": "3.13.3"
  }
 },
 "nbformat": 4,
 "nbformat_minor": 5
}
